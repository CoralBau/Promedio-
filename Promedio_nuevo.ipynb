{
  "nbformat": 4,
  "nbformat_minor": 0,
  "metadata": {
    "colab": {
      "provenance": [],
      "authorship_tag": "ABX9TyPR3B5QLBWTBXN3JkTB3/Jn",
      "include_colab_link": true
    },
    "kernelspec": {
      "name": "python3",
      "display_name": "Python 3"
    },
    "language_info": {
      "name": "python"
    }
  },
  "cells": [
    {
      "cell_type": "markdown",
      "metadata": {
        "id": "view-in-github",
        "colab_type": "text"
      },
      "source": [
        "<a href=\"https://colab.research.google.com/github/CoralBau/Promedio-/blob/main/Promedio_nuevo.ipynb\" target=\"_parent\"><img src=\"https://colab.research.google.com/assets/colab-badge.svg\" alt=\"Open In Colab\"/></a>"
      ]
    },
    {
      "cell_type": "code",
      "execution_count": 13,
      "metadata": {
        "colab": {
          "base_uri": "https://localhost:8080/"
        },
        "id": "lLfpBlyYQCLR",
        "outputId": "7d5d123a-39d5-4ebc-d939-480f293134dd"
      },
      "outputs": [
        {
          "output_type": "stream",
          "name": "stdout",
          "text": [
            "Dime la cantidad de números que quieres promediar: 3\n",
            "Dime el número 1 a promediar: 4\n",
            "Dime el número 2 a promediar: 5\n",
            "Dime el número 3 a promediar: 6\n",
            "El promedio fue de 5.0\n"
          ]
        }
      ],
      "source": [
        "nums = int(input(\"Dime la cantidad de números que quieres promediar: \"))\n",
        "prom = 0\n",
        "sum = 0\n",
        "\n",
        "for i in range(0, nums):\n",
        "  num = int(input(\"Dime el número \" + str(i+1) + \" a promediar: \"))\n",
        "  sum = sum + num\n",
        "\n",
        "prom = sum/nums\n",
        "print(\"El promedio fue de \" + str(prom))"
      ]
    },
    {
      "cell_type": "markdown",
      "source": [
        "Pickle"
      ],
      "metadata": {
        "id": "1U9R_cMLQh3K"
      }
    },
    {
      "cell_type": "code",
      "source": [
        "nums = int(input(\"Dime la cantidad de números que quieres promediar: \"))\n",
        "prom = 0\n",
        "arr = []\n",
        "sum = 0\n",
        "\n",
        "for i in range(0, nums):\n",
        "  num = int(input(\"Dime el número \" + str(i+1) + \" a promediar: \"))\n",
        "  arr.append(num)\n",
        "  sum = sum + num\n",
        "\n",
        "prom = sum / nums\n",
        "print(\"El promedio fue de \" + str(prom))"
      ],
      "metadata": {
        "colab": {
          "base_uri": "https://localhost:8080/"
        },
        "id": "cnFMx_MTQjHD",
        "outputId": "d96cb5e2-8d74-4c2c-da9a-fa30f1ea2e53"
      },
      "execution_count": 14,
      "outputs": [
        {
          "output_type": "stream",
          "name": "stdout",
          "text": [
            "Dime la cantidad de números que quieres promediar: 3\n",
            "Dime el número 1 a promediar: 4\n",
            "Dime el número 2 a promediar: 5\n",
            "Dime el número 3 a promediar: 6\n",
            "El promedio fue de 5.0\n"
          ]
        }
      ]
    },
    {
      "cell_type": "code",
      "source": [
        "import pickle as pk\n",
        "pk.dump(arr, open(\"array.pkl\", \"wb+\"))"
      ],
      "metadata": {
        "id": "Ztf2XAq_QqCW"
      },
      "execution_count": 15,
      "outputs": []
    },
    {
      "cell_type": "code",
      "source": [
        "lista = pk.load(open(\"array.pkl\", \"rb+\" ) )\n",
        "print(lista)"
      ],
      "metadata": {
        "colab": {
          "base_uri": "https://localhost:8080/"
        },
        "id": "6BQCpi9fQt5s",
        "outputId": "e2226ccc-c74c-449e-eaa3-02b03268cf4f"
      },
      "execution_count": 16,
      "outputs": [
        {
          "output_type": "stream",
          "name": "stdout",
          "text": [
            "[4, 5, 6]\n"
          ]
        }
      ]
    },
    {
      "cell_type": "markdown",
      "source": [
        "NUMPY"
      ],
      "metadata": {
        "id": "6yL3jzo_Q-_-"
      }
    },
    {
      "cell_type": "code",
      "source": [
        "import numpy as np\n",
        "\n",
        "nums = int(input(\"Dime la cantidad de números que quieres promediar: \"))\n",
        "arr = np.array([])\n",
        "\n",
        "for i in range(0, nums):\n",
        "  num = int(input(\"Dime el número \" + str(i+1) + \" a promediar: \"))\n",
        "  arr = np.append(arr, num)\n",
        "\n",
        "prom = np.sum(arr)/arr.size\n",
        "print(prom)"
      ],
      "metadata": {
        "colab": {
          "base_uri": "https://localhost:8080/"
        },
        "id": "0JdfwFv0RA8T",
        "outputId": "27846ada-e365-4c2a-cfcd-5186e14ba6d1"
      },
      "execution_count": 17,
      "outputs": [
        {
          "output_type": "stream",
          "name": "stdout",
          "text": [
            "Dime la cantidad de números que quieres promediar: 3\n",
            "Dime el número 1 a promediar: 4\n",
            "Dime el número 2 a promediar: 5\n",
            "Dime el número 3 a promediar: 6\n",
            "5.0\n"
          ]
        }
      ]
    }
  ]
}